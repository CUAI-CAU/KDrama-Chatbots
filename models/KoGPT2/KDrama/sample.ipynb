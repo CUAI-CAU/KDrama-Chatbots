{
 "cells": [
  {
   "cell_type": "code",
   "execution_count": 39,
   "metadata": {},
   "outputs": [],
   "source": [
    "import pandas as pd\n",
    "\n",
    "\n",
    "data_df = pd.read_csv('./raw/meseng_ver2.csv')\n"
   ]
  },
  {
   "cell_type": "code",
   "execution_count": 40,
   "metadata": {},
   "outputs": [
    {
     "data": {
      "text/html": [
       "<div>\n",
       "<style scoped>\n",
       "    .dataframe tbody tr th:only-of-type {\n",
       "        vertical-align: middle;\n",
       "    }\n",
       "\n",
       "    .dataframe tbody tr th {\n",
       "        vertical-align: top;\n",
       "    }\n",
       "\n",
       "    .dataframe thead th {\n",
       "        text-align: right;\n",
       "    }\n",
       "</style>\n",
       "<table border=\"1\" class=\"dataframe\">\n",
       "  <thead>\n",
       "    <tr style=\"text-align: right;\">\n",
       "      <th></th>\n",
       "      <th>Q</th>\n",
       "      <th>A</th>\n",
       "    </tr>\n",
       "  </thead>\n",
       "  <tbody>\n",
       "    <tr>\n",
       "      <th>0</th>\n",
       "      <td>자기는 아직 급할 거 없잖아</td>\n",
       "      <td>나야말로 이제 전쟁이지</td>\n",
       "    </tr>\n",
       "    <tr>\n",
       "      <th>1</th>\n",
       "      <td>걱정 마, 노하우 전수받으면 자기한테 토스할게</td>\n",
       "      <td>진짜?</td>\n",
       "    </tr>\n",
       "    <tr>\n",
       "      <th>2</th>\n",
       "      <td>진짜지?</td>\n",
       "      <td>나 진짜 언니만 믿는다?</td>\n",
       "    </tr>\n",
       "  </tbody>\n",
       "</table>\n",
       "</div>"
      ],
      "text/plain": [
       "                           Q              A\n",
       "0            자기는 아직 급할 거 없잖아   나야말로 이제 전쟁이지\n",
       "1  걱정 마, 노하우 전수받으면 자기한테 토스할게            진짜?\n",
       "2                       진짜지?  나 진짜 언니만 믿는다?"
      ]
     },
     "execution_count": 40,
     "metadata": {},
     "output_type": "execute_result"
    }
   ],
   "source": [
    "data_df.head(3)"
   ]
  },
  {
   "cell_type": "code",
   "execution_count": 41,
   "metadata": {},
   "outputs": [
    {
     "name": "stderr",
     "output_type": "stream",
     "text": [
      "/tmp/ipykernel_7212/1208820982.py:1: FutureWarning: The default value of regex will change from True to False in a future version. In addition, single character regular expressions will *not* be treated as literal strings when regex=True.\n",
      "  data_df['Q'] = data_df['Q'].str.replace('.',' ')\n",
      "/tmp/ipykernel_7212/1208820982.py:4: FutureWarning: The default value of regex will change from True to False in a future version. In addition, single character regular expressions will *not* be treated as literal strings when regex=True.\n",
      "  data_df['A'] = data_df['A'].str.replace('.','')\n"
     ]
    }
   ],
   "source": [
    "data_df['Q'] = data_df['Q'].str.replace('.',' ')\n",
    "data_df['Q'] = data_df['Q'].str.replace(',',' ')\n",
    "data_df['Q'] = data_df['Q'].str.replace('\"','')\n",
    "data_df['A'] = data_df['A'].str.replace('.','')\n",
    "data_df['A'] = data_df['A'].str.replace(',','')\n",
    "data_df['A'] = data_df['A'].str.replace('\"','')"
   ]
  },
  {
   "cell_type": "code",
   "execution_count": 42,
   "metadata": {},
   "outputs": [
    {
     "data": {
      "text/html": [
       "<div>\n",
       "<style scoped>\n",
       "    .dataframe tbody tr th:only-of-type {\n",
       "        vertical-align: middle;\n",
       "    }\n",
       "\n",
       "    .dataframe tbody tr th {\n",
       "        vertical-align: top;\n",
       "    }\n",
       "\n",
       "    .dataframe thead th {\n",
       "        text-align: right;\n",
       "    }\n",
       "</style>\n",
       "<table border=\"1\" class=\"dataframe\">\n",
       "  <thead>\n",
       "    <tr style=\"text-align: right;\">\n",
       "      <th></th>\n",
       "      <th>Q</th>\n",
       "      <th>A</th>\n",
       "    </tr>\n",
       "  </thead>\n",
       "  <tbody>\n",
       "    <tr>\n",
       "      <th>0</th>\n",
       "      <td>자기는 아직 급할 거 없잖아</td>\n",
       "      <td>나야말로 이제 전쟁이지</td>\n",
       "    </tr>\n",
       "    <tr>\n",
       "      <th>1</th>\n",
       "      <td>걱정 마  노하우 전수받으면 자기한테 토스할게</td>\n",
       "      <td>진짜?</td>\n",
       "    </tr>\n",
       "    <tr>\n",
       "      <th>2</th>\n",
       "      <td>진짜지?</td>\n",
       "      <td>나 진짜 언니만 믿는다?</td>\n",
       "    </tr>\n",
       "  </tbody>\n",
       "</table>\n",
       "</div>"
      ],
      "text/plain": [
       "                           Q              A\n",
       "0            자기는 아직 급할 거 없잖아   나야말로 이제 전쟁이지\n",
       "1  걱정 마  노하우 전수받으면 자기한테 토스할게            진짜?\n",
       "2                       진짜지?  나 진짜 언니만 믿는다?"
      ]
     },
     "execution_count": 42,
     "metadata": {},
     "output_type": "execute_result"
    }
   ],
   "source": [
    "data_df.head(3)"
   ]
  },
  {
   "cell_type": "code",
   "execution_count": 43,
   "metadata": {},
   "outputs": [],
   "source": [
    "data_df.to_csv(\"./after_preprocessing/meseng_ver2_after.csv\", mode='w', index=False)"
   ]
  },
  {
   "cell_type": "code",
   "execution_count": null,
   "metadata": {},
   "outputs": [],
   "source": []
  }
 ],
 "metadata": {
  "interpreter": {
   "hash": "1590fafd0ed3eb08a6f4cf2e0f216013b2f60797fe0060aee67bd27869ecd037"
  },
  "kernelspec": {
   "display_name": "Python 3.8.12 64-bit ('kogpt2daum': conda)",
   "language": "python",
   "name": "python3"
  },
  "language_info": {
   "codemirror_mode": {
    "name": "ipython",
    "version": 3
   },
   "file_extension": ".py",
   "mimetype": "text/x-python",
   "name": "python",
   "nbconvert_exporter": "python",
   "pygments_lexer": "ipython3",
   "version": "3.8.12"
  },
  "orig_nbformat": 4
 },
 "nbformat": 4,
 "nbformat_minor": 2
}
